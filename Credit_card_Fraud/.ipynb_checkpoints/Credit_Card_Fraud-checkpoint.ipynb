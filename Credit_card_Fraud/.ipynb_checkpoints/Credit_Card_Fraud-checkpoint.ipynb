{
 "cells": [
  {
   "cell_type": "code",
   "execution_count": 12,
   "metadata": {},
   "outputs": [
    {
     "name": "stdout",
     "output_type": "stream",
     "text": [
      "0.24.1\n"
     ]
    }
   ],
   "source": [
    "#!pip install -U scikit-learn\n",
    "#import sklearn\n",
    "#print(sklearn.__version__)"
   ]
  },
  {
   "cell_type": "code",
   "execution_count": 7,
   "metadata": {
    "id": "iBLYoxFawYRa"
   },
   "outputs": [],
   "source": [
    "import tensorflow as tf\n",
    "import pandas as pd\n",
    "import numpy as np\n",
    "import matplotlib.pyplot as plt\n",
    "from tensorflow.keras import models\n",
    "from tensorflow.keras import layers\n",
    "from sklearn.model_selection import train_test_split"
   ]
  },
  {
   "cell_type": "code",
   "execution_count": 13,
   "metadata": {
    "id": "94BTXXFLtzMQ"
   },
   "outputs": [],
   "source": [
    "from tensorflow.keras import regularizers\n",
    "df= pd.read_csv('Credit_Card_Fraud_dataset/creditcard.csv')"
   ]
  },
  {
   "cell_type": "markdown",
   "metadata": {
    "id": "J7iigCcgp4cd"
   },
   "source": [
    "**Balancing the data**"
   ]
  },
  {
   "cell_type": "code",
   "execution_count": 14,
   "metadata": {
    "colab": {
     "base_uri": "https://localhost:8080/"
    },
    "id": "gpH6yaI8p-Xj",
    "outputId": "6ad81a2e-bbd2-4886-b805-b822fc7bb7d4"
   },
   "outputs": [
    {
     "data": {
      "text/plain": [
       "((284315, 31), (492, 31))"
      ]
     },
     "execution_count": 14,
     "metadata": {},
     "output_type": "execute_result"
    }
   ],
   "source": [
    "non_fraud=df[df[\"Class\"]==0]\n",
    "fraud = df[df[\"Class\"]==1]\n",
    "non_fraud.shape, fraud.shape"
   ]
  },
  {
   "cell_type": "code",
   "execution_count": 15,
   "metadata": {
    "colab": {
     "base_uri": "https://localhost:8080/"
    },
    "id": "UHkdJfAWqkG0",
    "outputId": "5ba296c4-3f9d-4e2c-cb60-4dd5c639e253"
   },
   "outputs": [
    {
     "data": {
      "text/plain": [
       "(492, 31)"
      ]
     },
     "execution_count": 15,
     "metadata": {},
     "output_type": "execute_result"
    }
   ],
   "source": [
    "non_fraud=non_fraud.sample(fraud.shape[0])\n",
    "non_fraud.shape"
   ]
  },
  {
   "cell_type": "code",
   "execution_count": 16,
   "metadata": {
    "colab": {
     "base_uri": "https://localhost:8080/"
    },
    "id": "_rXeRez9rx18",
    "outputId": "0f5d0901-3653-4d0b-b310-6441f2b1d39e"
   },
   "outputs": [
    {
     "data": {
      "text/plain": [
       "0    492\n",
       "1    492\n",
       "Name: Class, dtype: int64"
      ]
     },
     "execution_count": 16,
     "metadata": {},
     "output_type": "execute_result"
    }
   ],
   "source": [
    "data = fraud.append(non_fraud, ignore_index=True)\n",
    "\n",
    "data.shape\n",
    "data[\"Class\"].value_counts()"
   ]
  },
  {
   "cell_type": "code",
   "execution_count": 65,
   "metadata": {},
   "outputs": [
    {
     "data": {
      "text/html": [
       "<div>\n",
       "<style scoped>\n",
       "    .dataframe tbody tr th:only-of-type {\n",
       "        vertical-align: middle;\n",
       "    }\n",
       "\n",
       "    .dataframe tbody tr th {\n",
       "        vertical-align: top;\n",
       "    }\n",
       "\n",
       "    .dataframe thead th {\n",
       "        text-align: right;\n",
       "    }\n",
       "</style>\n",
       "<table border=\"1\" class=\"dataframe\">\n",
       "  <thead>\n",
       "    <tr style=\"text-align: right;\">\n",
       "      <th></th>\n",
       "      <th>Time</th>\n",
       "      <th>V1</th>\n",
       "      <th>V2</th>\n",
       "      <th>V3</th>\n",
       "      <th>V4</th>\n",
       "      <th>V5</th>\n",
       "      <th>V6</th>\n",
       "      <th>V7</th>\n",
       "      <th>V8</th>\n",
       "      <th>V9</th>\n",
       "      <th>...</th>\n",
       "      <th>V21</th>\n",
       "      <th>V22</th>\n",
       "      <th>V23</th>\n",
       "      <th>V24</th>\n",
       "      <th>V25</th>\n",
       "      <th>V26</th>\n",
       "      <th>V27</th>\n",
       "      <th>V28</th>\n",
       "      <th>Amount</th>\n",
       "      <th>Class</th>\n",
       "    </tr>\n",
       "  </thead>\n",
       "  <tbody>\n",
       "    <tr>\n",
       "      <th>0</th>\n",
       "      <td>406.0</td>\n",
       "      <td>-2.312227</td>\n",
       "      <td>1.951992</td>\n",
       "      <td>-1.609851</td>\n",
       "      <td>3.997906</td>\n",
       "      <td>-0.522188</td>\n",
       "      <td>-1.426545</td>\n",
       "      <td>-2.537387</td>\n",
       "      <td>1.391657</td>\n",
       "      <td>-2.770089</td>\n",
       "      <td>...</td>\n",
       "      <td>0.517232</td>\n",
       "      <td>-0.035049</td>\n",
       "      <td>-0.465211</td>\n",
       "      <td>0.320198</td>\n",
       "      <td>0.044519</td>\n",
       "      <td>0.177840</td>\n",
       "      <td>0.261145</td>\n",
       "      <td>-0.143276</td>\n",
       "      <td>0.00</td>\n",
       "      <td>1</td>\n",
       "    </tr>\n",
       "    <tr>\n",
       "      <th>1</th>\n",
       "      <td>472.0</td>\n",
       "      <td>-3.043541</td>\n",
       "      <td>-3.157307</td>\n",
       "      <td>1.088463</td>\n",
       "      <td>2.288644</td>\n",
       "      <td>1.359805</td>\n",
       "      <td>-1.064823</td>\n",
       "      <td>0.325574</td>\n",
       "      <td>-0.067794</td>\n",
       "      <td>-0.270953</td>\n",
       "      <td>...</td>\n",
       "      <td>0.661696</td>\n",
       "      <td>0.435477</td>\n",
       "      <td>1.375966</td>\n",
       "      <td>-0.293803</td>\n",
       "      <td>0.279798</td>\n",
       "      <td>-0.145362</td>\n",
       "      <td>-0.252773</td>\n",
       "      <td>0.035764</td>\n",
       "      <td>529.00</td>\n",
       "      <td>1</td>\n",
       "    </tr>\n",
       "    <tr>\n",
       "      <th>2</th>\n",
       "      <td>4462.0</td>\n",
       "      <td>-2.303350</td>\n",
       "      <td>1.759247</td>\n",
       "      <td>-0.359745</td>\n",
       "      <td>2.330243</td>\n",
       "      <td>-0.821628</td>\n",
       "      <td>-0.075788</td>\n",
       "      <td>0.562320</td>\n",
       "      <td>-0.399147</td>\n",
       "      <td>-0.238253</td>\n",
       "      <td>...</td>\n",
       "      <td>-0.294166</td>\n",
       "      <td>-0.932391</td>\n",
       "      <td>0.172726</td>\n",
       "      <td>-0.087330</td>\n",
       "      <td>-0.156114</td>\n",
       "      <td>-0.542628</td>\n",
       "      <td>0.039566</td>\n",
       "      <td>-0.153029</td>\n",
       "      <td>239.93</td>\n",
       "      <td>1</td>\n",
       "    </tr>\n",
       "    <tr>\n",
       "      <th>3</th>\n",
       "      <td>6986.0</td>\n",
       "      <td>-4.397974</td>\n",
       "      <td>1.358367</td>\n",
       "      <td>-2.592844</td>\n",
       "      <td>2.679787</td>\n",
       "      <td>-1.128131</td>\n",
       "      <td>-1.706536</td>\n",
       "      <td>-3.496197</td>\n",
       "      <td>-0.248778</td>\n",
       "      <td>-0.247768</td>\n",
       "      <td>...</td>\n",
       "      <td>0.573574</td>\n",
       "      <td>0.176968</td>\n",
       "      <td>-0.436207</td>\n",
       "      <td>-0.053502</td>\n",
       "      <td>0.252405</td>\n",
       "      <td>-0.657488</td>\n",
       "      <td>-0.827136</td>\n",
       "      <td>0.849573</td>\n",
       "      <td>59.00</td>\n",
       "      <td>1</td>\n",
       "    </tr>\n",
       "    <tr>\n",
       "      <th>4</th>\n",
       "      <td>7519.0</td>\n",
       "      <td>1.234235</td>\n",
       "      <td>3.019740</td>\n",
       "      <td>-4.304597</td>\n",
       "      <td>4.732795</td>\n",
       "      <td>3.624201</td>\n",
       "      <td>-1.357746</td>\n",
       "      <td>1.713445</td>\n",
       "      <td>-0.496358</td>\n",
       "      <td>-1.282858</td>\n",
       "      <td>...</td>\n",
       "      <td>-0.379068</td>\n",
       "      <td>-0.704181</td>\n",
       "      <td>-0.656805</td>\n",
       "      <td>-1.632653</td>\n",
       "      <td>1.488901</td>\n",
       "      <td>0.566797</td>\n",
       "      <td>-0.010016</td>\n",
       "      <td>0.146793</td>\n",
       "      <td>1.00</td>\n",
       "      <td>1</td>\n",
       "    </tr>\n",
       "    <tr>\n",
       "      <th>...</th>\n",
       "      <td>...</td>\n",
       "      <td>...</td>\n",
       "      <td>...</td>\n",
       "      <td>...</td>\n",
       "      <td>...</td>\n",
       "      <td>...</td>\n",
       "      <td>...</td>\n",
       "      <td>...</td>\n",
       "      <td>...</td>\n",
       "      <td>...</td>\n",
       "      <td>...</td>\n",
       "      <td>...</td>\n",
       "      <td>...</td>\n",
       "      <td>...</td>\n",
       "      <td>...</td>\n",
       "      <td>...</td>\n",
       "      <td>...</td>\n",
       "      <td>...</td>\n",
       "      <td>...</td>\n",
       "      <td>...</td>\n",
       "      <td>...</td>\n",
       "    </tr>\n",
       "    <tr>\n",
       "      <th>979</th>\n",
       "      <td>141421.0</td>\n",
       "      <td>2.112766</td>\n",
       "      <td>-1.116445</td>\n",
       "      <td>-0.608063</td>\n",
       "      <td>-0.944910</td>\n",
       "      <td>-1.058612</td>\n",
       "      <td>-0.329735</td>\n",
       "      <td>-1.103612</td>\n",
       "      <td>0.035881</td>\n",
       "      <td>-0.017793</td>\n",
       "      <td>...</td>\n",
       "      <td>0.353526</td>\n",
       "      <td>1.012190</td>\n",
       "      <td>0.066095</td>\n",
       "      <td>-0.382160</td>\n",
       "      <td>-0.152958</td>\n",
       "      <td>-0.083228</td>\n",
       "      <td>-0.000569</td>\n",
       "      <td>-0.060031</td>\n",
       "      <td>29.95</td>\n",
       "      <td>0</td>\n",
       "    </tr>\n",
       "    <tr>\n",
       "      <th>980</th>\n",
       "      <td>166019.0</td>\n",
       "      <td>-1.824534</td>\n",
       "      <td>1.343266</td>\n",
       "      <td>1.118845</td>\n",
       "      <td>-0.026590</td>\n",
       "      <td>-0.693261</td>\n",
       "      <td>1.181787</td>\n",
       "      <td>-0.795066</td>\n",
       "      <td>1.198379</td>\n",
       "      <td>0.255556</td>\n",
       "      <td>...</td>\n",
       "      <td>0.426052</td>\n",
       "      <td>1.069201</td>\n",
       "      <td>-0.180563</td>\n",
       "      <td>0.207117</td>\n",
       "      <td>-0.267398</td>\n",
       "      <td>-0.716817</td>\n",
       "      <td>-1.003011</td>\n",
       "      <td>-0.497200</td>\n",
       "      <td>33.97</td>\n",
       "      <td>0</td>\n",
       "    </tr>\n",
       "    <tr>\n",
       "      <th>981</th>\n",
       "      <td>79230.0</td>\n",
       "      <td>1.219172</td>\n",
       "      <td>0.606316</td>\n",
       "      <td>-0.541427</td>\n",
       "      <td>1.225254</td>\n",
       "      <td>0.371342</td>\n",
       "      <td>-0.588232</td>\n",
       "      <td>0.169316</td>\n",
       "      <td>-0.035847</td>\n",
       "      <td>0.057899</td>\n",
       "      <td>...</td>\n",
       "      <td>-0.073471</td>\n",
       "      <td>-0.143052</td>\n",
       "      <td>-0.128396</td>\n",
       "      <td>-0.442735</td>\n",
       "      <td>0.637728</td>\n",
       "      <td>-0.272552</td>\n",
       "      <td>0.045737</td>\n",
       "      <td>0.048627</td>\n",
       "      <td>1.00</td>\n",
       "      <td>0</td>\n",
       "    </tr>\n",
       "    <tr>\n",
       "      <th>982</th>\n",
       "      <td>52526.0</td>\n",
       "      <td>-1.662674</td>\n",
       "      <td>0.299265</td>\n",
       "      <td>0.949283</td>\n",
       "      <td>1.537907</td>\n",
       "      <td>-1.909134</td>\n",
       "      <td>0.133349</td>\n",
       "      <td>2.664177</td>\n",
       "      <td>-0.682754</td>\n",
       "      <td>-0.756881</td>\n",
       "      <td>...</td>\n",
       "      <td>-0.254953</td>\n",
       "      <td>-0.104104</td>\n",
       "      <td>-0.392402</td>\n",
       "      <td>0.984802</td>\n",
       "      <td>-0.231293</td>\n",
       "      <td>-0.516490</td>\n",
       "      <td>-0.076664</td>\n",
       "      <td>-0.795772</td>\n",
       "      <td>499.00</td>\n",
       "      <td>0</td>\n",
       "    </tr>\n",
       "    <tr>\n",
       "      <th>983</th>\n",
       "      <td>143550.0</td>\n",
       "      <td>-0.841297</td>\n",
       "      <td>0.826026</td>\n",
       "      <td>0.653840</td>\n",
       "      <td>0.081422</td>\n",
       "      <td>0.944247</td>\n",
       "      <td>-0.946773</td>\n",
       "      <td>1.359069</td>\n",
       "      <td>-0.366209</td>\n",
       "      <td>-0.620152</td>\n",
       "      <td>...</td>\n",
       "      <td>0.026863</td>\n",
       "      <td>0.219923</td>\n",
       "      <td>-0.430668</td>\n",
       "      <td>0.011801</td>\n",
       "      <td>1.034302</td>\n",
       "      <td>0.079031</td>\n",
       "      <td>-0.103068</td>\n",
       "      <td>0.071854</td>\n",
       "      <td>29.99</td>\n",
       "      <td>0</td>\n",
       "    </tr>\n",
       "  </tbody>\n",
       "</table>\n",
       "<p>984 rows × 31 columns</p>\n",
       "</div>"
      ],
      "text/plain": [
       "         Time        V1        V2        V3        V4        V5        V6  \\\n",
       "0       406.0 -2.312227  1.951992 -1.609851  3.997906 -0.522188 -1.426545   \n",
       "1       472.0 -3.043541 -3.157307  1.088463  2.288644  1.359805 -1.064823   \n",
       "2      4462.0 -2.303350  1.759247 -0.359745  2.330243 -0.821628 -0.075788   \n",
       "3      6986.0 -4.397974  1.358367 -2.592844  2.679787 -1.128131 -1.706536   \n",
       "4      7519.0  1.234235  3.019740 -4.304597  4.732795  3.624201 -1.357746   \n",
       "..        ...       ...       ...       ...       ...       ...       ...   \n",
       "979  141421.0  2.112766 -1.116445 -0.608063 -0.944910 -1.058612 -0.329735   \n",
       "980  166019.0 -1.824534  1.343266  1.118845 -0.026590 -0.693261  1.181787   \n",
       "981   79230.0  1.219172  0.606316 -0.541427  1.225254  0.371342 -0.588232   \n",
       "982   52526.0 -1.662674  0.299265  0.949283  1.537907 -1.909134  0.133349   \n",
       "983  143550.0 -0.841297  0.826026  0.653840  0.081422  0.944247 -0.946773   \n",
       "\n",
       "           V7        V8        V9  ...       V21       V22       V23  \\\n",
       "0   -2.537387  1.391657 -2.770089  ...  0.517232 -0.035049 -0.465211   \n",
       "1    0.325574 -0.067794 -0.270953  ...  0.661696  0.435477  1.375966   \n",
       "2    0.562320 -0.399147 -0.238253  ... -0.294166 -0.932391  0.172726   \n",
       "3   -3.496197 -0.248778 -0.247768  ...  0.573574  0.176968 -0.436207   \n",
       "4    1.713445 -0.496358 -1.282858  ... -0.379068 -0.704181 -0.656805   \n",
       "..        ...       ...       ...  ...       ...       ...       ...   \n",
       "979 -1.103612  0.035881 -0.017793  ...  0.353526  1.012190  0.066095   \n",
       "980 -0.795066  1.198379  0.255556  ...  0.426052  1.069201 -0.180563   \n",
       "981  0.169316 -0.035847  0.057899  ... -0.073471 -0.143052 -0.128396   \n",
       "982  2.664177 -0.682754 -0.756881  ... -0.254953 -0.104104 -0.392402   \n",
       "983  1.359069 -0.366209 -0.620152  ...  0.026863  0.219923 -0.430668   \n",
       "\n",
       "          V24       V25       V26       V27       V28  Amount  Class  \n",
       "0    0.320198  0.044519  0.177840  0.261145 -0.143276    0.00      1  \n",
       "1   -0.293803  0.279798 -0.145362 -0.252773  0.035764  529.00      1  \n",
       "2   -0.087330 -0.156114 -0.542628  0.039566 -0.153029  239.93      1  \n",
       "3   -0.053502  0.252405 -0.657488 -0.827136  0.849573   59.00      1  \n",
       "4   -1.632653  1.488901  0.566797 -0.010016  0.146793    1.00      1  \n",
       "..        ...       ...       ...       ...       ...     ...    ...  \n",
       "979 -0.382160 -0.152958 -0.083228 -0.000569 -0.060031   29.95      0  \n",
       "980  0.207117 -0.267398 -0.716817 -1.003011 -0.497200   33.97      0  \n",
       "981 -0.442735  0.637728 -0.272552  0.045737  0.048627    1.00      0  \n",
       "982  0.984802 -0.231293 -0.516490 -0.076664 -0.795772  499.00      0  \n",
       "983  0.011801  1.034302  0.079031 -0.103068  0.071854   29.99      0  \n",
       "\n",
       "[984 rows x 31 columns]"
      ]
     },
     "execution_count": 65,
     "metadata": {},
     "output_type": "execute_result"
    }
   ],
   "source": [
    "data"
   ]
  },
  {
   "cell_type": "code",
   "execution_count": 66,
   "metadata": {},
   "outputs": [],
   "source": [
    "data = data.sample(frac=1).reset_index(drop=True)"
   ]
  },
  {
   "cell_type": "code",
   "execution_count": 67,
   "metadata": {},
   "outputs": [
    {
     "data": {
      "text/html": [
       "<div>\n",
       "<style scoped>\n",
       "    .dataframe tbody tr th:only-of-type {\n",
       "        vertical-align: middle;\n",
       "    }\n",
       "\n",
       "    .dataframe tbody tr th {\n",
       "        vertical-align: top;\n",
       "    }\n",
       "\n",
       "    .dataframe thead th {\n",
       "        text-align: right;\n",
       "    }\n",
       "</style>\n",
       "<table border=\"1\" class=\"dataframe\">\n",
       "  <thead>\n",
       "    <tr style=\"text-align: right;\">\n",
       "      <th></th>\n",
       "      <th>Time</th>\n",
       "      <th>V1</th>\n",
       "      <th>V2</th>\n",
       "      <th>V3</th>\n",
       "      <th>V4</th>\n",
       "      <th>V5</th>\n",
       "      <th>V6</th>\n",
       "      <th>V7</th>\n",
       "      <th>V8</th>\n",
       "      <th>V9</th>\n",
       "      <th>...</th>\n",
       "      <th>V21</th>\n",
       "      <th>V22</th>\n",
       "      <th>V23</th>\n",
       "      <th>V24</th>\n",
       "      <th>V25</th>\n",
       "      <th>V26</th>\n",
       "      <th>V27</th>\n",
       "      <th>V28</th>\n",
       "      <th>Amount</th>\n",
       "      <th>Class</th>\n",
       "    </tr>\n",
       "  </thead>\n",
       "  <tbody>\n",
       "    <tr>\n",
       "      <th>0</th>\n",
       "      <td>75033.0</td>\n",
       "      <td>-0.430330</td>\n",
       "      <td>0.985633</td>\n",
       "      <td>0.645789</td>\n",
       "      <td>0.317131</td>\n",
       "      <td>0.616332</td>\n",
       "      <td>-1.347462</td>\n",
       "      <td>1.078234</td>\n",
       "      <td>-0.161518</td>\n",
       "      <td>-0.492856</td>\n",
       "      <td>...</td>\n",
       "      <td>-0.016378</td>\n",
       "      <td>-0.207609</td>\n",
       "      <td>-0.164119</td>\n",
       "      <td>0.255280</td>\n",
       "      <td>0.454798</td>\n",
       "      <td>-0.505032</td>\n",
       "      <td>-0.039456</td>\n",
       "      <td>-0.006358</td>\n",
       "      <td>30.14</td>\n",
       "      <td>1</td>\n",
       "    </tr>\n",
       "    <tr>\n",
       "      <th>1</th>\n",
       "      <td>153676.0</td>\n",
       "      <td>1.210767</td>\n",
       "      <td>-1.032785</td>\n",
       "      <td>-3.100758</td>\n",
       "      <td>1.501952</td>\n",
       "      <td>0.881313</td>\n",
       "      <td>-0.939704</td>\n",
       "      <td>1.818974</td>\n",
       "      <td>-0.777162</td>\n",
       "      <td>-0.482700</td>\n",
       "      <td>...</td>\n",
       "      <td>0.567102</td>\n",
       "      <td>0.813671</td>\n",
       "      <td>-0.753660</td>\n",
       "      <td>-0.664964</td>\n",
       "      <td>0.831902</td>\n",
       "      <td>-0.200861</td>\n",
       "      <td>-0.134871</td>\n",
       "      <td>0.000079</td>\n",
       "      <td>487.60</td>\n",
       "      <td>0</td>\n",
       "    </tr>\n",
       "    <tr>\n",
       "      <th>2</th>\n",
       "      <td>3739.0</td>\n",
       "      <td>1.438816</td>\n",
       "      <td>-0.366987</td>\n",
       "      <td>0.010605</td>\n",
       "      <td>-1.047276</td>\n",
       "      <td>0.174702</td>\n",
       "      <td>0.823874</td>\n",
       "      <td>-0.749888</td>\n",
       "      <td>0.034687</td>\n",
       "      <td>0.136067</td>\n",
       "      <td>...</td>\n",
       "      <td>-0.260535</td>\n",
       "      <td>-0.553669</td>\n",
       "      <td>-0.070838</td>\n",
       "      <td>-1.744148</td>\n",
       "      <td>0.384066</td>\n",
       "      <td>-0.406249</td>\n",
       "      <td>0.002857</td>\n",
       "      <td>-0.010846</td>\n",
       "      <td>12.87</td>\n",
       "      <td>0</td>\n",
       "    </tr>\n",
       "    <tr>\n",
       "      <th>3</th>\n",
       "      <td>148053.0</td>\n",
       "      <td>1.261324</td>\n",
       "      <td>2.726800</td>\n",
       "      <td>-5.435019</td>\n",
       "      <td>5.342759</td>\n",
       "      <td>1.447043</td>\n",
       "      <td>-1.442584</td>\n",
       "      <td>-0.898702</td>\n",
       "      <td>0.123062</td>\n",
       "      <td>-2.748496</td>\n",
       "      <td>...</td>\n",
       "      <td>0.209086</td>\n",
       "      <td>-0.425938</td>\n",
       "      <td>-0.154440</td>\n",
       "      <td>-0.018820</td>\n",
       "      <td>0.632234</td>\n",
       "      <td>0.192922</td>\n",
       "      <td>0.468181</td>\n",
       "      <td>0.280486</td>\n",
       "      <td>1.59</td>\n",
       "      <td>1</td>\n",
       "    </tr>\n",
       "    <tr>\n",
       "      <th>4</th>\n",
       "      <td>102489.0</td>\n",
       "      <td>-2.296987</td>\n",
       "      <td>4.064043</td>\n",
       "      <td>-5.957706</td>\n",
       "      <td>4.680008</td>\n",
       "      <td>-2.080938</td>\n",
       "      <td>-1.463272</td>\n",
       "      <td>-4.490847</td>\n",
       "      <td>1.029246</td>\n",
       "      <td>-1.593249</td>\n",
       "      <td>...</td>\n",
       "      <td>1.089084</td>\n",
       "      <td>0.975398</td>\n",
       "      <td>-0.625530</td>\n",
       "      <td>-0.535181</td>\n",
       "      <td>0.247435</td>\n",
       "      <td>0.160400</td>\n",
       "      <td>0.969582</td>\n",
       "      <td>0.335041</td>\n",
       "      <td>104.00</td>\n",
       "      <td>1</td>\n",
       "    </tr>\n",
       "    <tr>\n",
       "      <th>...</th>\n",
       "      <td>...</td>\n",
       "      <td>...</td>\n",
       "      <td>...</td>\n",
       "      <td>...</td>\n",
       "      <td>...</td>\n",
       "      <td>...</td>\n",
       "      <td>...</td>\n",
       "      <td>...</td>\n",
       "      <td>...</td>\n",
       "      <td>...</td>\n",
       "      <td>...</td>\n",
       "      <td>...</td>\n",
       "      <td>...</td>\n",
       "      <td>...</td>\n",
       "      <td>...</td>\n",
       "      <td>...</td>\n",
       "      <td>...</td>\n",
       "      <td>...</td>\n",
       "      <td>...</td>\n",
       "      <td>...</td>\n",
       "      <td>...</td>\n",
       "    </tr>\n",
       "    <tr>\n",
       "      <th>979</th>\n",
       "      <td>70536.0</td>\n",
       "      <td>-2.271755</td>\n",
       "      <td>-0.457655</td>\n",
       "      <td>-2.589055</td>\n",
       "      <td>2.230778</td>\n",
       "      <td>-4.278983</td>\n",
       "      <td>0.388610</td>\n",
       "      <td>0.102485</td>\n",
       "      <td>0.813128</td>\n",
       "      <td>-1.092921</td>\n",
       "      <td>...</td>\n",
       "      <td>1.096342</td>\n",
       "      <td>0.658399</td>\n",
       "      <td>1.711676</td>\n",
       "      <td>0.333540</td>\n",
       "      <td>0.538591</td>\n",
       "      <td>-0.193529</td>\n",
       "      <td>0.258194</td>\n",
       "      <td>0.247269</td>\n",
       "      <td>824.83</td>\n",
       "      <td>1</td>\n",
       "    </tr>\n",
       "    <tr>\n",
       "      <th>980</th>\n",
       "      <td>68357.0</td>\n",
       "      <td>1.232604</td>\n",
       "      <td>-0.548931</td>\n",
       "      <td>1.087873</td>\n",
       "      <td>0.894082</td>\n",
       "      <td>-1.433055</td>\n",
       "      <td>-0.356797</td>\n",
       "      <td>-0.717492</td>\n",
       "      <td>0.003167</td>\n",
       "      <td>-0.100397</td>\n",
       "      <td>...</td>\n",
       "      <td>-0.448671</td>\n",
       "      <td>-0.517568</td>\n",
       "      <td>0.012833</td>\n",
       "      <td>0.699217</td>\n",
       "      <td>0.527258</td>\n",
       "      <td>-0.322607</td>\n",
       "      <td>0.080805</td>\n",
       "      <td>0.035427</td>\n",
       "      <td>19.59</td>\n",
       "      <td>1</td>\n",
       "    </tr>\n",
       "    <tr>\n",
       "      <th>981</th>\n",
       "      <td>75935.0</td>\n",
       "      <td>-2.075193</td>\n",
       "      <td>1.256193</td>\n",
       "      <td>1.906565</td>\n",
       "      <td>0.580532</td>\n",
       "      <td>-0.750806</td>\n",
       "      <td>1.281652</td>\n",
       "      <td>-1.058757</td>\n",
       "      <td>-1.440676</td>\n",
       "      <td>0.573458</td>\n",
       "      <td>...</td>\n",
       "      <td>1.991728</td>\n",
       "      <td>-1.428080</td>\n",
       "      <td>0.105057</td>\n",
       "      <td>0.174568</td>\n",
       "      <td>0.476861</td>\n",
       "      <td>-0.604566</td>\n",
       "      <td>-0.045340</td>\n",
       "      <td>-0.144556</td>\n",
       "      <td>26.42</td>\n",
       "      <td>0</td>\n",
       "    </tr>\n",
       "    <tr>\n",
       "      <th>982</th>\n",
       "      <td>166578.0</td>\n",
       "      <td>-0.401387</td>\n",
       "      <td>0.953459</td>\n",
       "      <td>0.911767</td>\n",
       "      <td>0.900161</td>\n",
       "      <td>0.546213</td>\n",
       "      <td>-0.421794</td>\n",
       "      <td>1.410034</td>\n",
       "      <td>-0.670447</td>\n",
       "      <td>0.953334</td>\n",
       "      <td>...</td>\n",
       "      <td>-0.077406</td>\n",
       "      <td>0.798943</td>\n",
       "      <td>-0.363756</td>\n",
       "      <td>0.024329</td>\n",
       "      <td>-0.126709</td>\n",
       "      <td>-0.417113</td>\n",
       "      <td>0.197339</td>\n",
       "      <td>-0.281254</td>\n",
       "      <td>30.00</td>\n",
       "      <td>0</td>\n",
       "    </tr>\n",
       "    <tr>\n",
       "      <th>983</th>\n",
       "      <td>84694.0</td>\n",
       "      <td>-4.868108</td>\n",
       "      <td>1.264420</td>\n",
       "      <td>-5.167885</td>\n",
       "      <td>3.193648</td>\n",
       "      <td>-3.045621</td>\n",
       "      <td>-2.096166</td>\n",
       "      <td>-6.445610</td>\n",
       "      <td>2.422536</td>\n",
       "      <td>-3.214055</td>\n",
       "      <td>...</td>\n",
       "      <td>1.269205</td>\n",
       "      <td>0.057657</td>\n",
       "      <td>0.629307</td>\n",
       "      <td>-0.168432</td>\n",
       "      <td>0.443744</td>\n",
       "      <td>0.276539</td>\n",
       "      <td>1.441274</td>\n",
       "      <td>-0.127944</td>\n",
       "      <td>12.31</td>\n",
       "      <td>1</td>\n",
       "    </tr>\n",
       "  </tbody>\n",
       "</table>\n",
       "<p>984 rows × 31 columns</p>\n",
       "</div>"
      ],
      "text/plain": [
       "         Time        V1        V2        V3        V4        V5        V6  \\\n",
       "0     75033.0 -0.430330  0.985633  0.645789  0.317131  0.616332 -1.347462   \n",
       "1    153676.0  1.210767 -1.032785 -3.100758  1.501952  0.881313 -0.939704   \n",
       "2      3739.0  1.438816 -0.366987  0.010605 -1.047276  0.174702  0.823874   \n",
       "3    148053.0  1.261324  2.726800 -5.435019  5.342759  1.447043 -1.442584   \n",
       "4    102489.0 -2.296987  4.064043 -5.957706  4.680008 -2.080938 -1.463272   \n",
       "..        ...       ...       ...       ...       ...       ...       ...   \n",
       "979   70536.0 -2.271755 -0.457655 -2.589055  2.230778 -4.278983  0.388610   \n",
       "980   68357.0  1.232604 -0.548931  1.087873  0.894082 -1.433055 -0.356797   \n",
       "981   75935.0 -2.075193  1.256193  1.906565  0.580532 -0.750806  1.281652   \n",
       "982  166578.0 -0.401387  0.953459  0.911767  0.900161  0.546213 -0.421794   \n",
       "983   84694.0 -4.868108  1.264420 -5.167885  3.193648 -3.045621 -2.096166   \n",
       "\n",
       "           V7        V8        V9  ...       V21       V22       V23  \\\n",
       "0    1.078234 -0.161518 -0.492856  ... -0.016378 -0.207609 -0.164119   \n",
       "1    1.818974 -0.777162 -0.482700  ...  0.567102  0.813671 -0.753660   \n",
       "2   -0.749888  0.034687  0.136067  ... -0.260535 -0.553669 -0.070838   \n",
       "3   -0.898702  0.123062 -2.748496  ...  0.209086 -0.425938 -0.154440   \n",
       "4   -4.490847  1.029246 -1.593249  ...  1.089084  0.975398 -0.625530   \n",
       "..        ...       ...       ...  ...       ...       ...       ...   \n",
       "979  0.102485  0.813128 -1.092921  ...  1.096342  0.658399  1.711676   \n",
       "980 -0.717492  0.003167 -0.100397  ... -0.448671 -0.517568  0.012833   \n",
       "981 -1.058757 -1.440676  0.573458  ...  1.991728 -1.428080  0.105057   \n",
       "982  1.410034 -0.670447  0.953334  ... -0.077406  0.798943 -0.363756   \n",
       "983 -6.445610  2.422536 -3.214055  ...  1.269205  0.057657  0.629307   \n",
       "\n",
       "          V24       V25       V26       V27       V28  Amount  Class  \n",
       "0    0.255280  0.454798 -0.505032 -0.039456 -0.006358   30.14      1  \n",
       "1   -0.664964  0.831902 -0.200861 -0.134871  0.000079  487.60      0  \n",
       "2   -1.744148  0.384066 -0.406249  0.002857 -0.010846   12.87      0  \n",
       "3   -0.018820  0.632234  0.192922  0.468181  0.280486    1.59      1  \n",
       "4   -0.535181  0.247435  0.160400  0.969582  0.335041  104.00      1  \n",
       "..        ...       ...       ...       ...       ...     ...    ...  \n",
       "979  0.333540  0.538591 -0.193529  0.258194  0.247269  824.83      1  \n",
       "980  0.699217  0.527258 -0.322607  0.080805  0.035427   19.59      1  \n",
       "981  0.174568  0.476861 -0.604566 -0.045340 -0.144556   26.42      0  \n",
       "982  0.024329 -0.126709 -0.417113  0.197339 -0.281254   30.00      0  \n",
       "983 -0.168432  0.443744  0.276539  1.441274 -0.127944   12.31      1  \n",
       "\n",
       "[984 rows x 31 columns]"
      ]
     },
     "execution_count": 67,
     "metadata": {},
     "output_type": "execute_result"
    }
   ],
   "source": [
    "data"
   ]
  },
  {
   "cell_type": "code",
   "execution_count": 68,
   "metadata": {
    "id": "_g2O7ndPsiMf"
   },
   "outputs": [],
   "source": [
    "x_data= data.drop(columns=\"Class\", axis=0)\n",
    "label = data[\"Class\"]"
   ]
  },
  {
   "cell_type": "markdown",
   "metadata": {
    "id": "Bl2vhLJbcgPB"
   },
   "source": [
    "**Splitting Training and Test data**"
   ]
  },
  {
   "cell_type": "code",
   "execution_count": 69,
   "metadata": {
    "id": "ujmrm9oHOEIb"
   },
   "outputs": [],
   "source": [
    "train_data, test_data, train_labels, test_labels=train_test_split(x_data, label, test_size=0.3, random_state=0, stratify = label)"
   ]
  },
  {
   "cell_type": "code",
   "execution_count": 70,
   "metadata": {
    "colab": {
     "base_uri": "https://localhost:8080/"
    },
    "id": "NYvCfpldtchj",
    "outputId": "b6b7d9f7-64a4-4341-f0a9-758012a6da72"
   },
   "outputs": [
    {
     "data": {
      "text/plain": [
       "((688, 30), (296, 30))"
      ]
     },
     "execution_count": 70,
     "metadata": {},
     "output_type": "execute_result"
    }
   ],
   "source": [
    "train_data.shape, test_data.shape"
   ]
  },
  {
   "cell_type": "markdown",
   "metadata": {
    "id": "N2IjHw9-vr8R"
   },
   "source": [
    "**Normalizing the data**"
   ]
  },
  {
   "cell_type": "code",
   "execution_count": 71,
   "metadata": {
    "id": "SUGcuylWwQNH"
   },
   "outputs": [],
   "source": [
    "mean=train_data.mean(axis=0)\n",
    "std=train_data.std(axis=0)\n",
    "train_data = (train_data-mean)/std\n",
    "test_data = (test_data-mean)/std\n"
   ]
  },
  {
   "cell_type": "code",
   "execution_count": 72,
   "metadata": {
    "id": "ml_bHaukvCq1"
   },
   "outputs": [],
   "source": [
    "train_labels=np.asarray(train_labels).astype(dtype=\"float64\")\n",
    "test_labels=np.asarray(test_labels).astype(dtype=\"float64\")"
   ]
  },
  {
   "cell_type": "markdown",
   "metadata": {
    "id": "46HRquJwfVet"
   },
   "source": [
    "**Building The Network**"
   ]
  },
  {
   "cell_type": "code",
   "execution_count": 94,
   "metadata": {
    "id": "DdLBceyKc8Kz"
   },
   "outputs": [],
   "source": [
    "model= models.Sequential()\n",
    "model.add(layers.Dense(20, activation=\"relu\", input_shape=(train_data.shape[1],)))\n",
    "model.add(layers.Dropout(0.2))\n",
    "model.add(layers.Dense(10, activation=\"relu\"))\n",
    "model.add(layers.Dropout(0.2))\n",
    "model.add(layers.Dense(8,activation=\"relu\"))\n",
    "model.add(layers.Dropout(0.2))\n",
    "model.add(layers.Dense(6,activation=\"relu\"))\n",
    "model.add(layers.Dropout(0.2))\n",
    "model.add(layers.Dense(1,activation=\"sigmoid\"))\n",
    "\n",
    "model.compile(optimizer=\"adam\", loss=\"binary_crossentropy\", metrics=[\"accuracy\"])"
   ]
  },
  {
   "cell_type": "markdown",
   "metadata": {
    "id": "YjZ6MKm2dAT7"
   },
   "source": [
    "**Training The Network**"
   ]
  },
  {
   "cell_type": "code",
   "execution_count": 95,
   "metadata": {
    "colab": {
     "base_uri": "https://localhost:8080/"
    },
    "id": "D6q4dtLZdD8U",
    "outputId": "0c9dd0e5-fc03-4332-a1a7-704b229f0300"
   },
   "outputs": [
    {
     "name": "stdout",
     "output_type": "stream",
     "text": [
      "Epoch 1/100\n",
      "18/18 [==============================] - 1s 33ms/step - loss: 0.7029 - accuracy: 0.4655 - val_loss: 0.6860 - val_accuracy: 0.6232\n",
      "Epoch 2/100\n",
      "18/18 [==============================] - 0s 5ms/step - loss: 0.6877 - accuracy: 0.5418 - val_loss: 0.6700 - val_accuracy: 0.7536\n",
      "Epoch 3/100\n",
      "18/18 [==============================] - 0s 4ms/step - loss: 0.6771 - accuracy: 0.6000 - val_loss: 0.6545 - val_accuracy: 0.8478\n",
      "Epoch 4/100\n",
      "18/18 [==============================] - 0s 4ms/step - loss: 0.6587 - accuracy: 0.6382 - val_loss: 0.6314 - val_accuracy: 0.8623\n",
      "Epoch 5/100\n",
      "18/18 [==============================] - 0s 4ms/step - loss: 0.6480 - accuracy: 0.6909 - val_loss: 0.6095 - val_accuracy: 0.8768\n",
      "Epoch 6/100\n",
      "18/18 [==============================] - 0s 4ms/step - loss: 0.6111 - accuracy: 0.7400 - val_loss: 0.5765 - val_accuracy: 0.8841\n",
      "Epoch 7/100\n",
      "18/18 [==============================] - 0s 3ms/step - loss: 0.6102 - accuracy: 0.7145 - val_loss: 0.5399 - val_accuracy: 0.9058\n",
      "Epoch 8/100\n",
      "18/18 [==============================] - 0s 4ms/step - loss: 0.5764 - accuracy: 0.7473 - val_loss: 0.5010 - val_accuracy: 0.9203\n",
      "Epoch 9/100\n",
      "18/18 [==============================] - 0s 4ms/step - loss: 0.5357 - accuracy: 0.8091 - val_loss: 0.4657 - val_accuracy: 0.9203\n",
      "Epoch 10/100\n",
      "18/18 [==============================] - 0s 4ms/step - loss: 0.5164 - accuracy: 0.7873 - val_loss: 0.4368 - val_accuracy: 0.9058\n",
      "Epoch 11/100\n",
      "18/18 [==============================] - 0s 4ms/step - loss: 0.4881 - accuracy: 0.8255 - val_loss: 0.4196 - val_accuracy: 0.9058\n",
      "Epoch 12/100\n",
      "18/18 [==============================] - 0s 4ms/step - loss: 0.4618 - accuracy: 0.8600 - val_loss: 0.3974 - val_accuracy: 0.9058\n",
      "Epoch 13/100\n",
      "18/18 [==============================] - 0s 4ms/step - loss: 0.4370 - accuracy: 0.8655 - val_loss: 0.3765 - val_accuracy: 0.9275\n",
      "Epoch 14/100\n",
      "18/18 [==============================] - 0s 4ms/step - loss: 0.4203 - accuracy: 0.8764 - val_loss: 0.3590 - val_accuracy: 0.9203\n",
      "Epoch 15/100\n",
      "18/18 [==============================] - 0s 4ms/step - loss: 0.4132 - accuracy: 0.8745 - val_loss: 0.3448 - val_accuracy: 0.9203\n",
      "Epoch 16/100\n",
      "18/18 [==============================] - 0s 4ms/step - loss: 0.3884 - accuracy: 0.8982 - val_loss: 0.3286 - val_accuracy: 0.9348\n",
      "Epoch 17/100\n",
      "18/18 [==============================] - 0s 4ms/step - loss: 0.3569 - accuracy: 0.9200 - val_loss: 0.3109 - val_accuracy: 0.9420\n",
      "Epoch 18/100\n",
      "18/18 [==============================] - 0s 4ms/step - loss: 0.3506 - accuracy: 0.9036 - val_loss: 0.2932 - val_accuracy: 0.9420\n",
      "Epoch 19/100\n",
      "18/18 [==============================] - 0s 5ms/step - loss: 0.3337 - accuracy: 0.8836 - val_loss: 0.2758 - val_accuracy: 0.9420\n",
      "Epoch 20/100\n",
      "18/18 [==============================] - 0s 4ms/step - loss: 0.3200 - accuracy: 0.9000 - val_loss: 0.2595 - val_accuracy: 0.9420\n",
      "Epoch 21/100\n",
      "18/18 [==============================] - 0s 5ms/step - loss: 0.3064 - accuracy: 0.9073 - val_loss: 0.2424 - val_accuracy: 0.9420\n",
      "Epoch 22/100\n",
      "18/18 [==============================] - 0s 4ms/step - loss: 0.2935 - accuracy: 0.9055 - val_loss: 0.2311 - val_accuracy: 0.9348\n",
      "Epoch 23/100\n",
      "18/18 [==============================] - 0s 4ms/step - loss: 0.2852 - accuracy: 0.9036 - val_loss: 0.2194 - val_accuracy: 0.9275\n",
      "Epoch 24/100\n",
      "18/18 [==============================] - 0s 4ms/step - loss: 0.2703 - accuracy: 0.9200 - val_loss: 0.2133 - val_accuracy: 0.9348\n",
      "Epoch 25/100\n",
      "18/18 [==============================] - 0s 4ms/step - loss: 0.2763 - accuracy: 0.9145 - val_loss: 0.2079 - val_accuracy: 0.9348\n",
      "Epoch 26/100\n",
      "18/18 [==============================] - 0s 4ms/step - loss: 0.2513 - accuracy: 0.9218 - val_loss: 0.2014 - val_accuracy: 0.9348\n",
      "Epoch 27/100\n",
      "18/18 [==============================] - 0s 4ms/step - loss: 0.2467 - accuracy: 0.9364 - val_loss: 0.1976 - val_accuracy: 0.9348\n",
      "Epoch 28/100\n",
      "18/18 [==============================] - 0s 4ms/step - loss: 0.2221 - accuracy: 0.9364 - val_loss: 0.1929 - val_accuracy: 0.9348\n",
      "Epoch 29/100\n",
      "18/18 [==============================] - 0s 5ms/step - loss: 0.2556 - accuracy: 0.9291 - val_loss: 0.1884 - val_accuracy: 0.9348\n",
      "Epoch 30/100\n",
      "18/18 [==============================] - 0s 5ms/step - loss: 0.2457 - accuracy: 0.9236 - val_loss: 0.1866 - val_accuracy: 0.9348\n",
      "Epoch 31/100\n",
      "18/18 [==============================] - 0s 5ms/step - loss: 0.2164 - accuracy: 0.9291 - val_loss: 0.1827 - val_accuracy: 0.9348\n",
      "Epoch 32/100\n",
      "18/18 [==============================] - 0s 4ms/step - loss: 0.2369 - accuracy: 0.9364 - val_loss: 0.1814 - val_accuracy: 0.9348\n",
      "Epoch 33/100\n",
      "18/18 [==============================] - 0s 4ms/step - loss: 0.2266 - accuracy: 0.9382 - val_loss: 0.1799 - val_accuracy: 0.9348\n",
      "Epoch 34/100\n",
      "18/18 [==============================] - 0s 4ms/step - loss: 0.2315 - accuracy: 0.9400 - val_loss: 0.1799 - val_accuracy: 0.9348\n",
      "Epoch 35/100\n",
      "18/18 [==============================] - 0s 4ms/step - loss: 0.2056 - accuracy: 0.9491 - val_loss: 0.1757 - val_accuracy: 0.9348\n",
      "Epoch 36/100\n",
      "18/18 [==============================] - 0s 5ms/step - loss: 0.2315 - accuracy: 0.9436 - val_loss: 0.1772 - val_accuracy: 0.9348\n",
      "Epoch 37/100\n",
      "18/18 [==============================] - 0s 3ms/step - loss: 0.2029 - accuracy: 0.9418 - val_loss: 0.1768 - val_accuracy: 0.9348\n",
      "Epoch 38/100\n",
      "18/18 [==============================] - 0s 3ms/step - loss: 0.2076 - accuracy: 0.9436 - val_loss: 0.1759 - val_accuracy: 0.9348\n",
      "Epoch 39/100\n",
      "18/18 [==============================] - 0s 3ms/step - loss: 0.2077 - accuracy: 0.9545 - val_loss: 0.1737 - val_accuracy: 0.9348\n",
      "Epoch 40/100\n",
      "18/18 [==============================] - 0s 4ms/step - loss: 0.2017 - accuracy: 0.9400 - val_loss: 0.1718 - val_accuracy: 0.9348\n",
      "Epoch 41/100\n",
      "18/18 [==============================] - 0s 3ms/step - loss: 0.2072 - accuracy: 0.9382 - val_loss: 0.1712 - val_accuracy: 0.9420\n",
      "Epoch 42/100\n",
      "18/18 [==============================] - 0s 3ms/step - loss: 0.1882 - accuracy: 0.9473 - val_loss: 0.1706 - val_accuracy: 0.9420\n",
      "Epoch 43/100\n",
      "18/18 [==============================] - 0s 3ms/step - loss: 0.1873 - accuracy: 0.9418 - val_loss: 0.1683 - val_accuracy: 0.9420\n",
      "Epoch 44/100\n",
      "18/18 [==============================] - 0s 4ms/step - loss: 0.2046 - accuracy: 0.9491 - val_loss: 0.1711 - val_accuracy: 0.9420\n",
      "Epoch 45/100\n",
      "18/18 [==============================] - 0s 4ms/step - loss: 0.1816 - accuracy: 0.9564 - val_loss: 0.1700 - val_accuracy: 0.9420\n",
      "Epoch 46/100\n",
      "18/18 [==============================] - 0s 3ms/step - loss: 0.1868 - accuracy: 0.9455 - val_loss: 0.1662 - val_accuracy: 0.9420\n",
      "Epoch 47/100\n",
      "18/18 [==============================] - 0s 3ms/step - loss: 0.1804 - accuracy: 0.9564 - val_loss: 0.1640 - val_accuracy: 0.9420\n",
      "Epoch 48/100\n",
      "18/18 [==============================] - 0s 3ms/step - loss: 0.1933 - accuracy: 0.9509 - val_loss: 0.1626 - val_accuracy: 0.9420\n",
      "Epoch 49/100\n",
      "18/18 [==============================] - 0s 3ms/step - loss: 0.1902 - accuracy: 0.9527 - val_loss: 0.1640 - val_accuracy: 0.9565\n",
      "Epoch 50/100\n",
      "18/18 [==============================] - 0s 3ms/step - loss: 0.1715 - accuracy: 0.9564 - val_loss: 0.1628 - val_accuracy: 0.9420\n",
      "Epoch 51/100\n",
      "18/18 [==============================] - 0s 3ms/step - loss: 0.1735 - accuracy: 0.9600 - val_loss: 0.1641 - val_accuracy: 0.9493\n",
      "Epoch 52/100\n",
      "18/18 [==============================] - 0s 3ms/step - loss: 0.1761 - accuracy: 0.9545 - val_loss: 0.1628 - val_accuracy: 0.9493\n",
      "Epoch 53/100\n",
      "18/18 [==============================] - 0s 3ms/step - loss: 0.1805 - accuracy: 0.9509 - val_loss: 0.1561 - val_accuracy: 0.9420\n",
      "Epoch 54/100\n",
      "18/18 [==============================] - 0s 4ms/step - loss: 0.1623 - accuracy: 0.9491 - val_loss: 0.1560 - val_accuracy: 0.9493\n",
      "Epoch 55/100\n",
      "18/18 [==============================] - 0s 4ms/step - loss: 0.1703 - accuracy: 0.9545 - val_loss: 0.1551 - val_accuracy: 0.9493\n",
      "Epoch 56/100\n",
      "18/18 [==============================] - 0s 3ms/step - loss: 0.1797 - accuracy: 0.9582 - val_loss: 0.1579 - val_accuracy: 0.9493\n",
      "Epoch 57/100\n",
      "18/18 [==============================] - 0s 3ms/step - loss: 0.1760 - accuracy: 0.9473 - val_loss: 0.1570 - val_accuracy: 0.9493\n",
      "Epoch 58/100\n",
      "18/18 [==============================] - 0s 3ms/step - loss: 0.1732 - accuracy: 0.9600 - val_loss: 0.1544 - val_accuracy: 0.9493\n"
     ]
    },
    {
     "name": "stdout",
     "output_type": "stream",
     "text": [
      "Epoch 59/100\n",
      "18/18 [==============================] - 0s 3ms/step - loss: 0.1671 - accuracy: 0.9564 - val_loss: 0.1518 - val_accuracy: 0.9493\n",
      "Epoch 60/100\n",
      "18/18 [==============================] - 0s 3ms/step - loss: 0.1677 - accuracy: 0.9564 - val_loss: 0.1527 - val_accuracy: 0.9493\n",
      "Epoch 61/100\n",
      "18/18 [==============================] - 0s 3ms/step - loss: 0.1667 - accuracy: 0.9545 - val_loss: 0.1550 - val_accuracy: 0.9493\n",
      "Epoch 62/100\n",
      "18/18 [==============================] - 0s 3ms/step - loss: 0.1491 - accuracy: 0.9673 - val_loss: 0.1566 - val_accuracy: 0.9493\n",
      "Epoch 63/100\n",
      "18/18 [==============================] - 0s 3ms/step - loss: 0.1765 - accuracy: 0.9582 - val_loss: 0.1542 - val_accuracy: 0.9493\n",
      "Epoch 64/100\n",
      "18/18 [==============================] - 0s 3ms/step - loss: 0.1744 - accuracy: 0.9582 - val_loss: 0.1564 - val_accuracy: 0.9493\n",
      "Epoch 65/100\n",
      "18/18 [==============================] - 0s 3ms/step - loss: 0.1609 - accuracy: 0.9600 - val_loss: 0.1689 - val_accuracy: 0.9420\n",
      "Epoch 66/100\n",
      "18/18 [==============================] - 0s 3ms/step - loss: 0.1560 - accuracy: 0.9655 - val_loss: 0.1772 - val_accuracy: 0.9420\n",
      "Epoch 67/100\n",
      "18/18 [==============================] - 0s 3ms/step - loss: 0.1673 - accuracy: 0.9545 - val_loss: 0.1785 - val_accuracy: 0.9420\n",
      "Epoch 68/100\n",
      "18/18 [==============================] - 0s 3ms/step - loss: 0.1483 - accuracy: 0.9600 - val_loss: 0.1768 - val_accuracy: 0.9348\n",
      "Epoch 69/100\n",
      "18/18 [==============================] - 0s 3ms/step - loss: 0.1495 - accuracy: 0.9582 - val_loss: 0.1784 - val_accuracy: 0.9420\n",
      "Epoch 70/100\n",
      "18/18 [==============================] - 0s 3ms/step - loss: 0.1336 - accuracy: 0.9655 - val_loss: 0.1793 - val_accuracy: 0.9420\n",
      "Epoch 71/100\n",
      "18/18 [==============================] - 0s 3ms/step - loss: 0.1516 - accuracy: 0.9655 - val_loss: 0.1755 - val_accuracy: 0.9420\n",
      "Epoch 72/100\n",
      "18/18 [==============================] - 0s 3ms/step - loss: 0.1625 - accuracy: 0.9618 - val_loss: 0.1632 - val_accuracy: 0.9493\n",
      "Epoch 73/100\n",
      "18/18 [==============================] - 0s 3ms/step - loss: 0.1563 - accuracy: 0.9618 - val_loss: 0.1620 - val_accuracy: 0.9493\n",
      "Epoch 74/100\n",
      "18/18 [==============================] - 0s 3ms/step - loss: 0.1379 - accuracy: 0.9636 - val_loss: 0.1708 - val_accuracy: 0.9420\n",
      "Epoch 75/100\n",
      "18/18 [==============================] - 0s 3ms/step - loss: 0.1350 - accuracy: 0.9691 - val_loss: 0.1857 - val_accuracy: 0.9493\n",
      "Epoch 76/100\n",
      "18/18 [==============================] - 0s 3ms/step - loss: 0.1527 - accuracy: 0.9564 - val_loss: 0.1808 - val_accuracy: 0.9493\n",
      "Epoch 77/100\n",
      "18/18 [==============================] - 0s 4ms/step - loss: 0.1411 - accuracy: 0.9600 - val_loss: 0.1734 - val_accuracy: 0.9420\n",
      "Epoch 78/100\n",
      "18/18 [==============================] - 0s 3ms/step - loss: 0.1284 - accuracy: 0.9727 - val_loss: 0.1704 - val_accuracy: 0.9493\n",
      "Epoch 79/100\n",
      "18/18 [==============================] - 0s 3ms/step - loss: 0.1355 - accuracy: 0.9709 - val_loss: 0.1772 - val_accuracy: 0.9493\n",
      "Epoch 80/100\n",
      "18/18 [==============================] - 0s 3ms/step - loss: 0.1407 - accuracy: 0.9673 - val_loss: 0.1843 - val_accuracy: 0.9420\n",
      "Epoch 81/100\n",
      "18/18 [==============================] - 0s 3ms/step - loss: 0.1216 - accuracy: 0.9655 - val_loss: 0.1976 - val_accuracy: 0.9420\n",
      "Epoch 82/100\n",
      "18/18 [==============================] - 0s 3ms/step - loss: 0.1369 - accuracy: 0.9673 - val_loss: 0.1981 - val_accuracy: 0.9420\n",
      "Epoch 83/100\n",
      "18/18 [==============================] - 0s 3ms/step - loss: 0.1363 - accuracy: 0.9655 - val_loss: 0.1787 - val_accuracy: 0.9493\n",
      "Epoch 84/100\n",
      "18/18 [==============================] - 0s 3ms/step - loss: 0.1146 - accuracy: 0.9727 - val_loss: 0.1786 - val_accuracy: 0.9493\n",
      "Epoch 85/100\n",
      "18/18 [==============================] - 0s 3ms/step - loss: 0.1276 - accuracy: 0.9655 - val_loss: 0.1752 - val_accuracy: 0.9493\n",
      "Epoch 86/100\n",
      "18/18 [==============================] - 0s 3ms/step - loss: 0.1300 - accuracy: 0.9636 - val_loss: 0.1710 - val_accuracy: 0.9565\n",
      "Epoch 87/100\n",
      "18/18 [==============================] - 0s 3ms/step - loss: 0.1212 - accuracy: 0.9745 - val_loss: 0.1740 - val_accuracy: 0.9565\n",
      "Epoch 88/100\n",
      "18/18 [==============================] - 0s 3ms/step - loss: 0.1245 - accuracy: 0.9727 - val_loss: 0.1770 - val_accuracy: 0.9565\n",
      "Epoch 89/100\n",
      "18/18 [==============================] - 0s 3ms/step - loss: 0.1248 - accuracy: 0.9727 - val_loss: 0.1760 - val_accuracy: 0.9493\n",
      "Epoch 90/100\n",
      "18/18 [==============================] - 0s 3ms/step - loss: 0.1203 - accuracy: 0.9745 - val_loss: 0.1814 - val_accuracy: 0.9493\n",
      "Epoch 91/100\n",
      "18/18 [==============================] - 0s 3ms/step - loss: 0.1247 - accuracy: 0.9727 - val_loss: 0.1867 - val_accuracy: 0.9493\n",
      "Epoch 92/100\n",
      "18/18 [==============================] - 0s 3ms/step - loss: 0.1208 - accuracy: 0.9636 - val_loss: 0.1823 - val_accuracy: 0.9493\n",
      "Epoch 93/100\n",
      "18/18 [==============================] - 0s 4ms/step - loss: 0.1222 - accuracy: 0.9673 - val_loss: 0.1807 - val_accuracy: 0.9493\n",
      "Epoch 94/100\n",
      "18/18 [==============================] - 0s 4ms/step - loss: 0.1243 - accuracy: 0.9673 - val_loss: 0.1798 - val_accuracy: 0.9493\n",
      "Epoch 95/100\n",
      "18/18 [==============================] - 0s 3ms/step - loss: 0.1339 - accuracy: 0.9727 - val_loss: 0.1780 - val_accuracy: 0.9420\n",
      "Epoch 96/100\n",
      "18/18 [==============================] - 0s 3ms/step - loss: 0.1055 - accuracy: 0.9727 - val_loss: 0.1842 - val_accuracy: 0.9420\n",
      "Epoch 97/100\n",
      "18/18 [==============================] - 0s 3ms/step - loss: 0.1103 - accuracy: 0.9764 - val_loss: 0.1883 - val_accuracy: 0.9420\n",
      "Epoch 98/100\n",
      "18/18 [==============================] - 0s 3ms/step - loss: 0.1159 - accuracy: 0.9800 - val_loss: 0.1883 - val_accuracy: 0.9493\n",
      "Epoch 99/100\n",
      "18/18 [==============================] - 0s 3ms/step - loss: 0.1315 - accuracy: 0.9673 - val_loss: 0.1859 - val_accuracy: 0.9493\n",
      "Epoch 100/100\n",
      "18/18 [==============================] - 0s 3ms/step - loss: 0.1145 - accuracy: 0.9745 - val_loss: 0.1819 - val_accuracy: 0.9420\n"
     ]
    }
   ],
   "source": [
    "history=model.fit(train_data, train_labels, epochs=100, validation_split=.2)"
   ]
  },
  {
   "cell_type": "code",
   "execution_count": 96,
   "metadata": {
    "colab": {
     "base_uri": "https://localhost:8080/",
     "height": 283
    },
    "id": "qHDVECkGfv7X",
    "outputId": "f10869fb-89a9-4d20-9140-b9c3adb4ab6d"
   },
   "outputs": [
    {
     "data": {
      "image/png": "[encoded data removed]",
      "text/plain": [
       "<Figure size 432x288 with 1 Axes>"
      ]
     },
     "metadata": {
      "needs_background": "light"
     },
     "output_type": "display_data"
    }
   ],
   "source": [
    "loss=history.history[\"loss\"]\n",
    "val_loss=history.history[\"val_loss\"]\n",
    "epochs=range(1, len(loss)+1)\n",
    "plt.plot(epochs, loss, \"bo\", label=\"Training Loss\")\n",
    "plt.plot(epochs, val_loss, \"b\", label=\"Validation Loss\")\n",
    "plt.xlabel(\"Epochs\")\n",
    "plt.ylabel(\"Loss\")\n",
    "plt.legend()\n",
    "plt.show()"
   ]
  },
  {
   "cell_type": "code",
   "execution_count": 97,
   "metadata": {
    "colab": {
     "base_uri": "https://localhost:8080/",
     "height": 279
    },
    "id": "4QeuRcUVf9r1",
    "outputId": "948a2ab7-684c-44c2-909e-b0c46121f290"
   },
   "outputs": [
    {
     "data": {
      "image/png": "[encoded data removed]",
      "text/plain": [
       "<Figure size 432x288 with 1 Axes>"
      ]
     },
     "metadata": {
      "needs_background": "light"
     },
     "output_type": "display_data"
    }
   ],
   "source": [
    "acc=history.history[\"accuracy\"]\n",
    "val_acc=history.history[\"val_accuracy\"]\n",
    "epochs=range(1, len(acc)+1)\n",
    "plt.plot(epochs[:], acc[:], \"bo\", label=\"Training Accuracy\")\n",
    "plt.plot(epochs[:], val_acc[:], \"b\", label=\"Validation Accuracy\")\n",
    "plt.xlabel(\"Epochs\")\n",
    "plt.ylabel(\"Accuracy\")\n",
    "plt.legend()\n",
    "plt.show()"
   ]
  },
  {
   "cell_type": "markdown",
   "metadata": {
    "id": "Dce-459igfpL"
   },
   "source": [
    "**Evaluating the Network**"
   ]
  },
  {
   "cell_type": "code",
   "execution_count": 98,
   "metadata": {
    "colab": {
     "base_uri": "https://localhost:8080/"
    },
    "id": "StnRq2ahghL3",
    "outputId": "1a0cb2d1-ea85-4963-83b8-2d0e3aaa6335"
   },
   "outputs": [
    {
     "name": "stdout",
     "output_type": "stream",
     "text": [
      "10/10 [==============================] - 0s 2ms/step - loss: 0.5103 - accuracy: 0.9324\n"
     ]
    }
   ],
   "source": [
    "test_loss_score, test_acc_score=model.evaluate(test_data, test_labels)"
   ]
  },
  {
   "cell_type": "code",
   "execution_count": 99,
   "metadata": {
    "colab": {
     "base_uri": "https://localhost:8080/"
    },
    "id": "YHZhGjD02dN4",
    "outputId": "b4a8bcd4-904f-4074-f1fa-269c2b3dfda5"
   },
   "outputs": [
    {
     "data": {
      "text/plain": [
       "93.24324131011963"
      ]
     },
     "execution_count": 99,
     "metadata": {},
     "output_type": "execute_result"
    }
   ],
   "source": [
    "test_acc_score *100"
   ]
  },
  {
   "cell_type": "markdown",
   "metadata": {
    "id": "X4PJkc9rhBnI"
   },
   "source": [
    "**Predicting the values**"
   ]
  },
  {
   "cell_type": "code",
   "execution_count": 100,
   "metadata": {
    "id": "ar4XTcgrhDpi"
   },
   "outputs": [],
   "source": [
    "prediction=model.predict(test_data).astype(dtype=\"u8\")"
   ]
  },
  {
   "cell_type": "code",
   "execution_count": 103,
   "metadata": {
    "colab": {
     "base_uri": "https://localhost:8080/"
    },
    "id": "JXLs5o3BhHBm",
    "outputId": "fd80e6f2-33c4-489e-e1ef-72e10cac8cfd"
   },
   "outputs": [
    {
     "data": {
      "text/plain": [
       "array([[0],\n",
       "       [0],\n",
       "       [0],\n",
       "       [1],\n",
       "       [0],\n",
       "       [1],\n",
       "       [0],\n",
       "       [0],\n",
       "       [1]], dtype=uint64)"
      ]
     },
     "execution_count": 103,
     "metadata": {},
     "output_type": "execute_result"
    }
   ],
   "source": [
    "prediction[1:10]"
   ]
  },
  {
   "cell_type": "code",
   "execution_count": 104,
   "metadata": {
    "colab": {
     "base_uri": "https://localhost:8080/"
    },
    "id": "tfGHXUschgRe",
    "outputId": "5359a01c-4b5c-4ee0-8427-ff188f39e3ea"
   },
   "outputs": [
    {
     "data": {
      "text/plain": [
       "array([0., 1., 0., 1., 0., 1., 0., 0., 1.])"
      ]
     },
     "execution_count": 104,
     "metadata": {},
     "output_type": "execute_result"
    }
   ],
   "source": [
    "test_labels[1:10]"
   ]
  },
  {
   "cell_type": "code",
   "execution_count": null,
   "metadata": {
    "id": "F9srhXkIkmOl"
   },
   "outputs": [],
   "source": []
  },
  {
   "cell_type": "code",
   "execution_count": null,
   "metadata": {},
   "outputs": [],
   "source": []
  }
 ],
 "metadata": {
  "colab": {
   "collapsed_sections": [],
   "name": "Credit Card Fraud.ipynb",
   "provenance": []
  },
  "kernelspec": {
   "display_name": "Python 3",
   "language": "python",
   "name": "python3"
  },
  "language_info": {
   "codemirror_mode": {
    "name": "ipython",
    "version": 3
   },
   "file_extension": ".py",
   "mimetype": "text/x-python",
   "name": "python",
   "nbconvert_exporter": "python",
   "pygments_lexer": "ipython3",
   "version": "3.8.5"
  }
 },
 "nbformat": 4,
 "nbformat_minor": 1
}
